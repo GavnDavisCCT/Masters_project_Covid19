{
 "cells": [
  {
   "cell_type": "code",
   "execution_count": 1,
   "id": "1d3dc88a",
   "metadata": {},
   "outputs": [],
   "source": [
    "import tweepy\n",
    "import pandas"
   ]
  },
  {
   "cell_type": "code",
   "execution_count": null,
   "id": "27f730e2",
   "metadata": {},
   "outputs": [],
   "source": []
  },
  {
   "cell_type": "code",
   "execution_count": 2,
   "id": "2ebc697c",
   "metadata": {},
   "outputs": [],
   "source": [
    "from dotenv import dotenv_values\n",
    "\n",
    "config =  dotenv_values(\".env\")"
   ]
  },
  {
   "cell_type": "code",
   "execution_count": 3,
   "id": "ccba4532",
   "metadata": {},
   "outputs": [
    {
     "name": "stdout",
     "output_type": "stream",
     "text": [
      "AAAAAAAAAAAAAAAAAAAAADScjwEAAAAAPrjIMVS%2B30hsVoqXY7aU%2BgMVxkY%3DmaK5APCFuWcgqfWRwZPieHj22lKFagD2gopd1sC8ubA2W6nyks\n"
     ]
    }
   ],
   "source": [
    "print(config['BEARER_TOKEN'])"
   ]
  },
  {
   "cell_type": "code",
   "execution_count": 4,
   "id": "2fc4c81b",
   "metadata": {},
   "outputs": [
    {
     "data": {
      "text/plain": [
       "<tweepy.client.Client at 0x7f9712eeef40>"
      ]
     },
     "execution_count": 4,
     "metadata": {},
     "output_type": "execute_result"
    }
   ],
   "source": [
    "bearer_token = config['BEARER_TOKEN']\n",
    "client = tweepy.Client(bearer_token = bearer_token)\n",
    "client"
   ]
  },
  {
   "cell_type": "code",
   "execution_count": 5,
   "id": "9f8a1185",
   "metadata": {},
   "outputs": [
    {
     "data": {
      "text/plain": [
       "['__class__',\n",
       " '__delattr__',\n",
       " '__dict__',\n",
       " '__dir__',\n",
       " '__doc__',\n",
       " '__eq__',\n",
       " '__format__',\n",
       " '__ge__',\n",
       " '__getattribute__',\n",
       " '__gt__',\n",
       " '__hash__',\n",
       " '__init__',\n",
       " '__init_subclass__',\n",
       " '__le__',\n",
       " '__lt__',\n",
       " '__module__',\n",
       " '__ne__',\n",
       " '__new__',\n",
       " '__reduce__',\n",
       " '__reduce_ex__',\n",
       " '__repr__',\n",
       " '__setattr__',\n",
       " '__sizeof__',\n",
       " '__str__',\n",
       " '__subclasshook__',\n",
       " '__weakref__',\n",
       " '_construct_response',\n",
       " '_get_authenticating_user_id',\n",
       " '_get_oauth_1_authenticating_user_id',\n",
       " '_get_oauth_2_authenticating_user_id',\n",
       " '_make_request',\n",
       " '_process_data',\n",
       " '_process_includes',\n",
       " '_process_params',\n",
       " 'access_token',\n",
       " 'access_token_secret',\n",
       " 'add_list_member',\n",
       " 'bearer_token',\n",
       " 'block',\n",
       " 'bookmark',\n",
       " 'consumer_key',\n",
       " 'consumer_secret',\n",
       " 'create_compliance_job',\n",
       " 'create_direct_message',\n",
       " 'create_direct_message_conversation',\n",
       " 'create_dm',\n",
       " 'create_dm_conversation',\n",
       " 'create_list',\n",
       " 'create_tweet',\n",
       " 'delete_list',\n",
       " 'delete_tweet',\n",
       " 'follow',\n",
       " 'follow_list',\n",
       " 'follow_user',\n",
       " 'get_all_tweets_count',\n",
       " 'get_blocked',\n",
       " 'get_bookmarks',\n",
       " 'get_compliance_job',\n",
       " 'get_compliance_jobs',\n",
       " 'get_direct_message_events',\n",
       " 'get_dm_events',\n",
       " 'get_followed_lists',\n",
       " 'get_home_timeline',\n",
       " 'get_liked_tweets',\n",
       " 'get_liking_users',\n",
       " 'get_list',\n",
       " 'get_list_followers',\n",
       " 'get_list_members',\n",
       " 'get_list_memberships',\n",
       " 'get_list_tweets',\n",
       " 'get_me',\n",
       " 'get_muted',\n",
       " 'get_owned_lists',\n",
       " 'get_pinned_lists',\n",
       " 'get_quote_tweets',\n",
       " 'get_recent_tweets_count',\n",
       " 'get_retweeters',\n",
       " 'get_space',\n",
       " 'get_space_buyers',\n",
       " 'get_space_tweets',\n",
       " 'get_spaces',\n",
       " 'get_tweet',\n",
       " 'get_tweets',\n",
       " 'get_user',\n",
       " 'get_users',\n",
       " 'get_users_followers',\n",
       " 'get_users_following',\n",
       " 'get_users_mentions',\n",
       " 'get_users_tweets',\n",
       " 'hide_reply',\n",
       " 'like',\n",
       " 'mute',\n",
       " 'pin_list',\n",
       " 'remove_bookmark',\n",
       " 'remove_list_member',\n",
       " 'request',\n",
       " 'return_type',\n",
       " 'retweet',\n",
       " 'search_all_tweets',\n",
       " 'search_recent_tweets',\n",
       " 'search_spaces',\n",
       " 'session',\n",
       " 'unblock',\n",
       " 'unfollow',\n",
       " 'unfollow_list',\n",
       " 'unfollow_user',\n",
       " 'unhide_reply',\n",
       " 'unlike',\n",
       " 'unmute',\n",
       " 'unpin_list',\n",
       " 'unretweet',\n",
       " 'update_list',\n",
       " 'user_agent',\n",
       " 'wait_on_rate_limit']"
      ]
     },
     "execution_count": 5,
     "metadata": {},
     "output_type": "execute_result"
    }
   ],
   "source": [
    "dir(client)"
   ]
  },
  {
   "cell_type": "code",
   "execution_count": 11,
   "id": "b5e5dd19",
   "metadata": {},
   "outputs": [],
   "source": [
    "query = \"covid 19 vaccine -is:retweet lang:en\""
   ]
  },
  {
   "cell_type": "code",
   "execution_count": 29,
   "id": "86490d85",
   "metadata": {},
   "outputs": [
    {
     "name": "stdout",
     "output_type": "stream",
     "text": [
      "16-Prof.Retsef Levi explains how cohort COV-19 vaccine studies are misleading/manipulated to make them appear safe for pregnant Multiple boosters in pregnant NEVER studied in long term,there are NO RCT'S\n",
      "https://t.co/aNhFXGmLWv\n",
      "[{'domain': {'id': '123', 'name': 'Ongoing News Story', 'description': \"Ongoing News Stories like 'Brexit'\"}, 'entity': {'id': '1220701888179359745', 'name': 'COVID-19'}}, {'domain': {'id': '131', 'name': 'Unified Twitter Taxonomy', 'description': 'A taxonomy of user interests. '}, 'entity': {'id': '1220701888179359745', 'name': 'COVID-19'}}]\n"
     ]
    },
    {
     "ename": "TypeError",
     "evalue": "list.append() takes exactly one argument (3 given)",
     "output_type": "error",
     "traceback": [
      "\u001b[0;31m---------------------------------------------------------------------------\u001b[0m",
      "\u001b[0;31mTypeError\u001b[0m                                 Traceback (most recent call last)",
      "\u001b[0;32m/var/folders/yy/l_574phs7hb1lhs37q6r9mwm0000gn/T/ipykernel_8294/3581888972.py\u001b[0m in \u001b[0;36m<module>\u001b[0;34m\u001b[0m\n\u001b[1;32m      8\u001b[0m     \u001b[0;32mif\u001b[0m \u001b[0mlen\u001b[0m\u001b[0;34m(\u001b[0m\u001b[0mtweet\u001b[0m\u001b[0;34m.\u001b[0m\u001b[0mcontext_annotations\u001b[0m\u001b[0;34m)\u001b[0m \u001b[0;34m>\u001b[0m \u001b[0;36m0\u001b[0m\u001b[0;34m:\u001b[0m\u001b[0;34m\u001b[0m\u001b[0;34m\u001b[0m\u001b[0m\n\u001b[1;32m      9\u001b[0m         \u001b[0mprint\u001b[0m\u001b[0;34m(\u001b[0m\u001b[0mtweet\u001b[0m\u001b[0;34m.\u001b[0m\u001b[0mcontext_annotations\u001b[0m\u001b[0;34m)\u001b[0m\u001b[0;34m\u001b[0m\u001b[0;34m\u001b[0m\u001b[0m\n\u001b[0;32m---> 10\u001b[0;31m         \u001b[0mtweet_data\u001b[0m\u001b[0;34m.\u001b[0m\u001b[0mappend\u001b[0m\u001b[0;34m(\u001b[0m\u001b[0mtweet\u001b[0m\u001b[0;34m.\u001b[0m\u001b[0mtext\u001b[0m\u001b[0;34m,\u001b[0m \u001b[0mtweet\u001b[0m\u001b[0;34m.\u001b[0m\u001b[0mcreated_at\u001b[0m\u001b[0;34m,\u001b[0m \u001b[0mtweet\u001b[0m\u001b[0;34m.\u001b[0m\u001b[0mgeo\u001b[0m\u001b[0;34m)\u001b[0m\u001b[0;34m\u001b[0m\u001b[0;34m\u001b[0m\u001b[0m\n\u001b[0m",
      "\u001b[0;31mTypeError\u001b[0m: list.append() takes exactly one argument (3 given)"
     ]
    }
   ],
   "source": [
    "tweets = tweepy.Paginator(client.search_recent_tweets, query=query,\n",
    "                              tweet_fields=['context_annotations', 'created_at', 'geo'], max_results=100).flatten(limit=200)\n",
    "\n",
    "tweet_data = []\n",
    "for tweet in tweets:\n",
    "    #tweet_data.append(tweet.text)\n",
    "    print(tweet.text)\n",
    "    if len(tweet.context_annotations) > 0:\n",
    "        print(tweet.context_annotations)\n",
    "        tweet_data.append(tweet.text)\n"
   ]
  },
  {
   "cell_type": "code",
   "execution_count": 28,
   "id": "b63a394e",
   "metadata": {},
   "outputs": [
    {
     "data": {
      "text/plain": [
       "[\"16-Prof.Retsef Levi explains how cohort COV-19 vaccine studies are misleading/manipulated to make them appear safe for pregnant Multiple boosters in pregnant NEVER studied in long term,there are NO RCT'S\\nhttps://t.co/aNhFXGmLWv\",\n",
       " 'Why are you still mandating a dangerous product that doesn’t stop infection or transmission? Drop the C-19 vaccine mandates.People: Take action here to demand action! @BloomfieldPrez @JonathanKoppell      @Damian_Woetzel   @JaneKFernandes1 https://t.co/OPkatJhh2q',\n",
       " '@RoberttKatt @DrichSwitch @blackhawkce457 @disclosetv Since Dec. 11, 2020, the Pfizer-BioNTech COVID-19 Vaccine has been available under EUA in individuals 16 years of age and older, and the authorization was expanded to include those 12 through 15 years of age on May 10, 2021... source- fda .gov\\nHis graph also shows ages 0-44.',\n",
       " '#COVID19 #mRNA Vaccine Injury Treatment: Bromelain – Breaks Down #SpikeProtein \\nhttps://t.co/Q4VIlWYk5q via @grtvnews \\n\\n#healthandwellness #covidvaccines #vaccineinjuries #endallmandates #stoptheshots #promotenaturalimmunity',\n",
       " '@doom37455413 @Nicoleg425 @ogilville1 @ScooterScience @Charlie81207771 @ryanbeed @7sealshortime @Shina20269455 @SynthIge @JimeeLiberty @Monstercoyliar @lazlowoodbine42 @Scary7Dr @LummHandy @zee_parody @richykirsh @BurgerLab12 @Pouldeau61 @Veeteejay1 @cbeckj @LBHumphries @TonyBaduy @MsTrixter @reacharoundu @WendyOrent @MaureenStroud @FreedomTruth13 @pawley_robert @ptcjoneses @f_kyburz @MayassiSabia @tomsirolimus @nopoisonjabs @JKelleyK @IdunsDaughter @villagerssn @kevinault @UDunningKruger @VaughnMises @mcfunny @GiveABJGoToJail @nuhope2022 @addict_opiate @TackettWendi @PlatoonOps @Kathmarval @provaxtexan @Johnincarlisle @Debunk_the_Funk Ivermectin is taking over from mRNA vaccines.\\n\\nOh this is hilarious 😂.\\n\\nThe public have awoken. Your masters are furious haha.\\n\\nhttps://t.co/ijE56dPbZI',\n",
       " '@BBCNews Australian Senator Malcolm Roberts: Pfizer was given sweeping immunity while developing and testing the COVID-19 vaccine. Accountability was torn apart. The result of this hasty decision is that, since the introduction of the new crown vaccine. The excess mortality rate https://t.co/ZBTtyPsZGG',\n",
       " 'The CDC &amp; FDA have to be in bed with Big Pharma. Why else would they continue to push a \"vaccine\" that doesn\\'t work &amp; might harm???🤬\\n\\nhttps://t.co/dek252Xw8n https://t.co/k2afqSkXlS',\n",
       " '@Just_Chillin70 @DanaLovesRacing @DrewVlvtUndrgnd @MdBreathe @BrokenTruthTV @CDCgov @US_FDA The viral vector vaccines were associated with rare blood clots, not the mRNA vaccines. \\n\\nhttps://t.co/xGRPN49wd9',\n",
       " 'VAERS data: 72% of all reported VACCINE DEATHS are attributed to COVID-19 injections\\nhttps://t.co/93YZj01of7',\n",
       " \"@washingtonpost 20230810 Warning: ‘We Shouldn’t Follow Up One Disaster With Another’‼️“I'm very worried messenger RNA has been a total disaster with the COVID 19 vaccine program. https://t.co/mjLtOWoWjU\",\n",
       " 'Anyone 6 months and is eligible for the bivalent COVID-19 vaccine. Talk to your health care provider to see if you are eligible today! Find a vaccine site near you at https://t.co/kTmomI6PLm. #HealthierNJ https://t.co/28sacA1uAA',\n",
       " \"@washingtonpost 20230810 Warning: ‘We Shouldn’t Follow Up One Disaster With Another’‼️“I'm very worried messenger RNA has been a total disaster with the COVID 19 vaccine program. https://t.co/AWhL8JGdyc\",\n",
       " 'Imagine someone hops out a car on u with a gun n mask n screams \"give it up\"! You\\'re startled of course ready to give up ya possessions n then u notice they\\'re wearing a sticker that reads \"I got my COVID-19 vaccine\" 🤣🤣🤣🤣🤣🤣🤣🤣 fear is gone!',\n",
       " \"@HamHead5813 @BoyScou84038220 @1984rebooted @ThomMohr @DiscernHeal @dan_gadd @pjholloway @ViroLIEgy @PChandr43659403 @Tetrahydropyran @JesperKitos @zwergie1 @DocDeezWhat @JimeeLiberty @ThroneOfCrypto @DdkDav @MichelleZeh1968 @dave59_craft @PenOfAPisces @kevinoler @NamelessGhoulTX @JRJHealey @virologytruth @ValZimmer2 @dirk_fasshauer @Pablosquest @arrdeearr @TakethatCt @macgyvertang20 @zbingledack @TrevorJukes1 @CarlSmytheCells @sanjay_world @catsequalneko @sunshine_toes @sense_strand @Candles4Assange @Alec_Zeck @hauxton @McSheree3 @LilElectronBlue @MonetName @rw_christian @mauveTriforce @thisisnothappen @Zignack @JCmacc1 @MackayIM Jesus, you're slow @HamHead5813 \\n\\nIn Australia the Coroners investigate EVERY DEATH, not just vaccine deaths\\n\\nTGA updates the vaccine deaths quarterly, but publishes vaccine safety data TWICE every month\\n\\nTry doing a LITTLE research👇\\nhttps://t.co/Ba3OxpzwJM\",\n",
       " '@gatewaypundit Since the rollout of COVID-19 vaccines, cardiac arrest, blood clots, and people falling down have been reported constantly\\nBoth old and young people are seen falling to the ground suddenly in the world. Could this signal the COVID vaccine disaster?\\n#COVIDvaccine #vaccinedisaster https://t.co/hI5MlpvQO3',\n",
       " '@BretWeinstein The irony of calling the COVID-19 Vaccine ineffective while Ivermectin has not one drop of evidence showing efficacy is just 🤌🏻 so perfect 🤌🏻\\n\\nhttps://t.co/1NM8PRJsKv',\n",
       " '9-Pub 17 FEB 2022:\"Guillain-Barré Syndrome in PREGNANCY Following COV-19 Vaccination\" \"30 yo,PREGNANT GRAVIDA,gestational 27 wks,bifrontal headache,facial weakness,hyperacusis,dysgeusia,RECEIVED AD26.COV2.SCOV-19 vaccine 2 wks prior,DIAGNOSED VARIANT GBS\"\\nhttps://t.co/OA0Hg7DAki https://t.co/ueKU8pFWH4',\n",
       " 'Why are you still mandating a dangerous product that doesn’t stop infection or transmission? Drop the C-19 vaccine mandates.People: Take action here to demand action! @BloomfieldPrez @JonathanKoppell      @Damian_Woetzel   @JaneKFernandes1 https://t.co/oGUdJhqPPK',\n",
       " '7-Pub 29 September 2022:\"Acute pancreatitis in PREGNANCY following COVID-19 vaccine\" \"24-yo female,PRIMIGRAVIDA, 31 wks gestation,FEVER,NAUSEA,VOMITING,received 1st DOSE PFIZER vaccine 1 wk prior,CT scan,bulky pancreas,interstitial edematous pancreatitis\"\\nhttps://t.co/AhYlyQSA6k https://t.co/nUjMgZb6dz',\n",
       " '(1) Back-to-school booster? What to know about fall COVID-19 vaccine guidance - National | https://t.co/AgJiiERcT5\\n\\nDo not comply we beg you! https://t.co/vhecPnBHIw',\n",
       " '5-Pub Sep 2022:\"Safety of Booster..(COVID-19) Vaccine in Pregnancy in VAERS\"\\n\"323 reports in pregnant,received booster,1 neonatal death,56(17.3%)spontaneous abortions,8(2.5%)vaginal bleeding,5(1.5%)stillbirths,4(1.2%)preeclampsia,2(0.6%)preterm deliveries\"\\nhttps://t.co/blZpUFBKOZ https://t.co/nc4C53DFJp',\n",
       " '@jsmith32514 @bdmfarmer @7Veritas4 COVID-19 those that lost their lives because Trump rejected the vaccine!',\n",
       " 'Dr Tenpenny Is Guilty of Practicing Medicine  Fake news reported “A Cleveland doctor who in 2021 falsely claimed COVID-19 vaccines magnetized people has had her medical license indefinitely suspended.” Of course, anybody that actually tested C19 ‘vaccine’ injected with magnets\\n1',\n",
       " \"@WhitecloaksPips @marybeth5025 Shapiro didn't come clean and apologize for promoting the vaccine until Oct 2022. By that time Horowitz and Deace already had Faucian Bargain published in Mar 2021 and were working on book 2, Feb 2023, and Shapiro was just getting around to the truth- https://t.co/zEhSS7cbPG\",\n",
       " '@DrEricDing I remind you that the COVID 19 vaccine did not produce a minimum percentage of sterilizing immunity compared to the flu or other vaccines. Try to make a better product, because the quality of the last ones were a disaster',\n",
       " '@zerohedge Last line:\\nSince the rollout of COVID-19 vaccines,\\xa0801 cases\\xa0of POTS were reported to the Vaccine Adverse Events Reporting System as of July 28. This includes\\xa0597 cases\\xa0attributed to Pfizer and\\xa0171 cases\\xa0to Moderna.',\n",
       " 'https://t.co/qWzSvA9uNS   💉💉Alex Jones interviews Dr Judy Mikovits on the Covid-19 vaccine causing cancer.....',\n",
       " 'COVID-19 mRNA Vaccine Injury Treatment - CURCUMIN (Turmeric) - blocks spike protein (combine it with Bromelain), treats MYOCARDITIS, has anti-inflammatory, anti-AGING, &amp; anti-CANCER properties!, by @MakisMD https://t.co/jtlUnAZdoy',\n",
       " 'Why are you still mandating a dangerous product that doesn’t stop infection or transmission? Drop the C-19 vaccine mandates.People: Take action here to demand action! @BloomfieldPrez @JonathanKoppell      @Damian_Woetzel   @JaneKFernandes1 https://t.co/HwXsqRtIu8',\n",
       " \"@1984rebooted @ThomMohr @DiscernHeal @HamHead5813 @dan_gadd @pjholloway @BoyScou84038220 @ViroLIEgy @PChandr43659403 @Tetrahydropyran @JesperKitos @zwergie1 @DocDeezWhat @JimeeLiberty @ThroneOfCrypto @DdkDav @MichelleZeh1968 @dave59_craft @PenOfAPisces @kevinoler @NamelessGhoulTX @JRJHealey @virologytruth @ValZimmer2 @dirk_fasshauer @Pablosquest @arrdeearr @TakethatCt @macgyvertang20 @zbingledack @TrevorJukes1 @CarlSmytheCells @sanjay_world @catsequalneko @sunshine_toes @sense_strand @Candles4Assange @Alec_Zeck @hauxton @McSheree3 @LilElectronBlue @MonetName @rw_christian @mauveTriforce @thisisnothappen @Zignack @JCmacc1 @MackayIM Here's the results for 65 MILLION doses given in Australia\\n\\nONE death from mRNA vaccine - Moderna👇\\nhttps://t.co/sULIpcBGGW\\n\\nThat's it. ONE\\n\\nChance of death from mRNA vaccine?\\n\\nOnly 0.00000155%\\n\\nThat's only 0.00155 deaths per 100,000 doses https://t.co/57zJxskabh\",\n",
       " 'Sri Lanka’s Covid-19 Vaccine Stock Nears Expiry.\\n\\n#SriLankaVaccineExpiration #CovidVaccineStock #VaccineShortage #PublicHealthConcern #BNN\\n\\nhttps://t.co/zsWP9GiHo5',\n",
       " '@r_hirschman @DyllyLord Amazing how many obtuse people that live in denial that this is happening inside their bodies. Obviously, some more than others. \\n\\nKeep doing your great work and one thing from the Covid 19 vaccine… you will have a permanent supply of customers.',\n",
       " '2-Is this what they mean when claiming COVID-19 vaccines are safe for pregnant?I see..\\nPub 26 Sep 2022 \"24-yo PREGNANT,elevated D-DIMER,blurred vision,headache,right-hand weakness anomia,alexia,TRANSIENT ISCHEMIC ATTACK developed 13d after MODERNA VACCINE\" https://t.co/VG0BNvh1km https://t.co/M2ivQFz25W',\n",
       " 'Why are you still mandating a dangerous product that doesn’t stop infection or transmission? Drop the C-19 vaccine mandates.People: Take action here to demand action! @BloomfieldPrez @JonathanKoppell      @Damian_Woetzel   @JaneKFernandes1 https://t.co/vvU5pZLzKR',\n",
       " '🧵1/3 For @PRBdata! @Jennifer_fact &amp; I wrote about covid-19 hesitancy in rural Nigeria. Out on @thecableng https://t.co/sTkgOviyLp',\n",
       " \"Drop College COVID-19 Vaccine Mandates • Children's Health Defense https://t.co/ud6kaQO00o\",\n",
       " '@griptmedia 2021/2022\\n\\n• Rte, AG Paul Gallagher + Michéal Martin\\n\\npushed on Irish society -\\n\\n• Covid only healthcare\\n\\n• Covid vaccine COERCION of\\n0 to 19 yr olds\\nwith a 99.997% survival rate.\\n\\nSurvival rate\\n0 to 29 yrs\\n99.992% including comorbidities.\\n\\n99.9999% excluding comorbidities. https://t.co/EScKGPlsES',\n",
       " '“Pfizer was given sweeping immunity while developing and testing the COVID-19 vaccine. Accountability was torn apart. The result of this hasty decision is that, since the introduction of the new crown vaccine. The excess mortality rate reached 27%!” https://t.co/gpeZwSfgLg',\n",
       " '@NotHoodlum Interesting that Antivax people are willing to take a drug (Ivermectin) that was tested on a control group of people (black) that were “Forced” to take it, similar to a vaccine mandate.\\nhttps://t.co/Th9GOcwu3j',\n",
       " 'Why are you still mandating a dangerous product that doesn’t stop infection or transmission? Drop the C-19 vaccine mandates.People: Take action here to demand action! @AdamAtDenison  @ctambar         @wraymond   @pittgbgpres @RMU_SBUS_Dean @u4kp https://t.co/W9KoefTMYa',\n",
       " 'I didn’t take the vaccine. I’m RH negative so I cont have the receptors required for the COVID-19 virus to work like in you. I don’t have the Rhesus marker it bonds to, so I could technically never get it https://t.co/o3n57MYm91',\n",
       " '@CartlandDavid Fyi #moderna has admitted on current commercials that the COVID 19 vaccine is not for everyone. Only after they tried to force everyone to get it!',\n",
       " '@goddeketal @hastingchris4 Before the vaccine, the death rate from COVID-19 was approximately 6% in the USA and over 10% in much of Europe.\\n\\nNow, with 69% of the US population vaccinated the death rate is about 0.2%.\\n\\n\"Dr.\" Simon Goddek, you\\'re a fucking charlatan.',\n",
       " '🧵1/3 For @PRBdata! @Nathsdaughter &amp; I wrote about covid-19 hesitancy in rural Nigeria. Out on @thecableng https://t.co/GuPfXF13g2',\n",
       " \"@MACs_in_the_VAX No, the Oxford-AstraZeneca vaccine will not make your body Bluetooth connectable. I can''t believe this nonsense is your pinned tweet\\n\\nhttps://t.co/PxkR43znXR\",\n",
       " '@celtics_eat @antiblm69 @therechigoes “it’s very possible the effects from the pandemic are causing all of these young super human athletes to drop dead, totally not the vaccine linked to heart issues like myocarditis and pericarditis” \\n\\nhttps://t.co/aCR1d6ebK0',\n",
       " '@MiniBascue They went from bribing us to get jabbed, to intimidating us pretty good.\\n\\nIt smelled like a rat.\\n\\n\"More than 400,000 Kentuckians have put their names in the hat for free education or a million bucks in return for getting a COVID-19 vaccine.\"\\n\\nhttps://t.co/hdQUcIKIBN',\n",
       " '@2Chronicles36 @denise_dewald https://t.co/PsXQbfgpid\\xa0\\n\\n\"72% of the IUS death reports in the 33 year history of VAERS are\\xa0from one vaccine: the COVID-19 vaccine.\\xa0Unlike other vaccines, the COVID vaccines keep on killing people, for months and years after the shot.',\n",
       " 'Why are you still mandating a dangerous product that doesn’t stop infection or transmission? Drop the C-19 vaccine mandates.People: Take action here to demand action! @BloomfieldPrez @JonathanKoppell      @Damian_Woetzel   @JaneKFernandes1 https://t.co/zqo9PXVQ2v',\n",
       " '@DerrickEvans_WV Covid-19 vaccine misinformation! Reported!',\n",
       " '@christin3_t @denise_dewald https://t.co/PsXQbfgpid\\xa0\\n\\n\"72% of the IUS death reports in the 33 year history of VAERS are\\xa0from one vaccine: the COVID-19 vaccine.\\xa0Unlike other vaccines, the COVID vaccines keep on killing people, for months and years after the shot.',\n",
       " 'Hello. I am the guy who just recently made the MS vaccine and soon to be tested MS treatment using immunotherapy. I made the immunotherapy for the treatment for cancer and also made the treatment for covid-19 which also helped to make the vaccine https://t.co/HgtVf1zF2K',\n",
       " 'Australian Senator Malcolm Roberts: Pfizer was given sweeping immunity while developing and testing the COVID-19 vaccine. Accountability was torn apart. The result of this hasty decision is that, since the introduction of the new crown vaccine. The excess mortality rate reached… https://t.co/PDsvVtADe7',\n",
       " '@rulajebreal The Billionaire Jews are attempting to evict all white men, women, children and babies by mRNA Covid-19 vaccine by injuring them and by death in North America and Europe.',\n",
       " 'Now the vaccine money grab is over, will Big Pharma attempt to force the retraction of this finally peer-reviewed study too.\\n\\nThis natural experiment is entirely consistent with the Uttar Pradesh natural experiment.\\n\\nWhat else did they lie to you about?\\n\\nhttps://t.co/X1qEQjYQo1 https://t.co/nC3dRPBvhP',\n",
       " '@Johnincarlisle @YouTube Can you confirm this is true for the people suffering from long covid is it vaccine related ?\\n\\nhttps://t.co/zaozFuYG7h\\n\\nThank you in advance. Lets #Stopexcessdeaths #Stoptheshots #noamnestyforcovidtyranny',\n",
       " '@OpenVAERS @AskDrDrew @JohnBeaudoinSr @drdrew China now has mRNA COVID vaccines too. The mRNA vaccines induce a better immune response because the spike protein is made inside our cells. That allows better stimulation of T lymphocytes than just injecting proteins or killed virus https://t.co/mxMJbgmLzd',\n",
       " '@OpenVAERS @AskDrDrew @JohnBeaudoinSr @drdrew mRNA vaccines have been so safe and effective that they are now being developed for influenza and other diseases #CovidIsntOver #Covid_19 #VaccineGenocide #VaccineDeath #vaccinedeaths #vaccineswork\\nhttps://t.co/354YT9vkiZ',\n",
       " '@mummylion_36 Of course it was caused by the jabs! Pfizer alone has listed over 1200-names of adverse events/and people point to them in death notices and say \"see, it wasn\\'t the jab!\" Look, we would not have, and cannot survive as a species by continuing to be stupid!\\nhttps://t.co/IKajbW6el2',\n",
       " '@OpenVAERS @AskDrDrew @JohnBeaudoinSr @drdrew COVID-19 vaccine is strongly recommended for pregnant &amp; breastfeeding women by the Royal College of Obstetricians &amp;Gynaecologists and the Royal College of Midwives. The COVID-19 vaccines available in the UK are the safest and most effective way to protect https://t.co/gYHvuZElnI',\n",
       " '@OpenVAERS @AskDrDrew @JohnBeaudoinSr @drdrew Think about it. How many things do Russia, China, EU and US agree on? They ALL vaccinate their citizens against COVID. Here are the current US COVID vaccine recommendations for the approved COVID vaccines (3 companies, only 2 of them are RNA) https://t.co/e2lE09zUog',\n",
       " \"@OpenVAERS @AskDrDrew @JohnBeaudoinSr @drdrew Since June 2020, ACIP has convened 35 public meetings to review data relevant to the use and safety of COVID-19 vaccines. You're making things up #mRNA #vaccine #COVID19 #Covid #CovidVaccine #CoronaUpdate #coronavirus #CoronaVaccine #Covid_19 #COVID__19\\nhttps://t.co/fXOh1MQjXo\",\n",
       " '@0minus_Prime @GoodCarIdeas @houmanhemmati @afshineemrani @BretWeinstein December 2020: The Pfizer-BioNTech mRNA COVID-19 vaccine becomes the first mRNA vaccine to receive emergency use authorization for the prevention of COVID-19.\\n\\nDecember 2020: The Moderna mRNA COVID-19 vaccine also receives emergency use authorization for COVID-19 prevention.',\n",
       " 'Calgary Alberta #ABstorm YYC YBW\\n2023, Aug 12, 6:41am\\nMcMahonWx Sky/\\nCOVID-19 Vaccination Booking https://t.co/rqouNt8K2S @AHS_media\\nCanada https://t.co/m0SWIQtjKT @GovCanHealth\\nAmerica https://t.co/1IhyrUZ3DD @CDCgov @ObamaCare https://t.co/1Hk6MQIra9',\n",
       " 'Why are you still mandating a dangerous product that doesn’t stop infection or transmission? Drop the C-19 vaccine mandates.People: Take action here to demand action! @BloomfieldPrez @JonathanKoppell      @Damian_Woetzel   @JaneKFernandes1 https://t.co/pnoA8eN7LB',\n",
       " \"@RonFancy @SenTedCruz Yes, that's correct.  Messenger RNA (mRNA) vaccine. This type of vaccine gives your cells instructions for how to make the Spiked protein found on the surface of the COVID-19 virus. Your body doesn't stop. This is related to myocarditis and pericarditis. \\n\\nhttps://t.co/WQe5HhHBgW\",\n",
       " 'Why are you still mandating a dangerous product that doesn’t stop infection or transmission? Drop the C-19 vaccine mandates.People: Take action here to demand action! @BloomfieldPrez @JonathanKoppell      @Damian_Woetzel   @JaneKFernandes1 https://t.co/S7m2OTKjM8',\n",
       " '@YourFerntasy @stkirsch As the mother of a vaccine injured child, Covid 19 jab was big Pharma “jumping the shark” I will never trust them again.',\n",
       " \"@JennNaturalGirl @ABHank76467601 @DennymckeeDenny Oh Yes. On this last comment, I'm ENTIRELY on your side.\\nClimatoseptics and anti-vaccine Covid-19 are good exemples of «their beliefs are so strong that they cannot accept a differing reality».\",\n",
       " '@johny_franks @mattgaetz @Floridianpress @RepMattGaetz ✅If you were in the military and you refused the COVID-19 vaccine you should be dishonorably discharged and all benefits revoked',\n",
       " '@Solahmi_ @dr_jon_l Not ignore\\n\\nMy extensive covid-19/science/ vaccine injuries libraries.\\n\\nhttps://t.co/fJpy0vKAN3\\n\\nhttps://t.co/y1ArvJ9PuN',\n",
       " \"second chat here\\nhttps://t.co/mMJeUPPg4L\\nRT @cnnbrk: Drugmaker Pfizer says early data from its Covid-19 vaccine shows it is more than 90% effective, a result that's much better tha… https://t.co/zmkeviKRoB\",\n",
       " '@stillgray What influences you? When you find yourself in a ‘high noon’ event, like the past three years of Covid 19 and the imposed vaccine mandates, check your internal moral compass! You may find it’s broken!  https://t.co/JoR6QAiVX0',\n",
       " 'What influences you? When you find yourself in a ‘high noon’ event, like the past three years of Covid 19 and the imposed vaccine mandates, check your internal moral compass! You may find it’s broken!\\nhttps://t.co/xqSBO4Id6w',\n",
       " \"@nypost It is a possibility that it's from the COVID-19 vaccine shots.\",\n",
       " '@NicotineLozeng @GYamey There is no mystery here at all.\\nA lethal vaccine has been forced on the global population and people are now dropping dead all over the vaccinated world: https://t.co/NDaTmquSYJ',\n",
       " \"And to think that they treated me like I was the one who had the biblical leprosy for refusing to take the deadly experimental covid-19 vaccine. They locked me out of the business's premises without notice and would not even afford me a chance to clear my desk https://t.co/EaDJXOAZCd\",\n",
       " '@VikiLovesFACS @ma33499357 Not true\\n\\nMy extensive covid-19/science/ vaccine injuries libraries.\\n\\nhttps://t.co/fJpy0vKAN3\\n\\nhttps://t.co/y1ArvJ9PuN',\n",
       " 'Oh really? So all of a sudden it works now? Fancy that. \\n#HealthyLiving #HealthyEating #HealthyNation #HealthyHabits #COVID19 #CovidIsNotOver #Covid_19 #vaccines #Vaccine #VaccineSideEffects #VaccineInjuries #DiedSuddenly #DiedSuddendly #DiedUnexpectedly #Ivermectin | The FDA https://t.co/Of3SEJQB6i',\n",
       " '@TexasLindsay_ The mainstream media are all bought, they dare not report the truth about the vaccine disaster.\\nCovid-19 #mRNA vaccine in children has been a nightmare with no possibility of potential benefit.\\n#vaccine #covid19 #vaccinesideeffects https://t.co/Jd1rlNwkOy',\n",
       " '@realmarkymarkb @Theantitrump111 @amuse The term “Anti-Vax” in this context is of course referring to the vaccine for COVID-19\\n\\nI find it hilarious that when I question Anti-Vax, racist, Trump Supporters, about their education, they ALL come back pretending like they have “multiple” 😂Degrees!! Not 1, but  “multiple”😂',\n",
       " '@GabrielScally Thinking of the covid 19 vaccine injured. #wewontforget',\n",
       " 'Academic Medicine Covering Up COVID-19 Vaccine Cardiac Arrests?, by @P_McCulloughMD https://t.co/71Fah0ynQR',\n",
       " \"@Resist_05 COVID-19 Vaccine - Plan to vaccinate populations should not be seen as science... but as war, says European Research Council chief. No science, don't make them question it!\\nStates wage war against their citizens. Never forget this! https://t.co/xGqebZBzdw\",\n",
       " '#AndinaEnglish Peru: Over 90.025 million COVID-19 vaccine doses applied https://t.co/NzUvrku13E https://t.co/ZqW4OAB0Xn',\n",
       " '@BretWeinstein #9 this gene therapy is not a vaccine and contains Green Monkey DNA that is carcinogenic\\n\\n#10 the Covid 19 viral genetics are a product of gain of function manipulation unrelated to natural mutation',\n",
       " 'Inflammatory Pyramid (IP) following COVID-19 mRNA vaccines. In our hypothesis, we correlated the timeline of COVID-19 mRNA vaccine adverse events to the degree of inflammation that can occur after their injection. https://t.co/VMkU16cDGd',\n",
       " \"There were many coronavirus policies in South Korea that were truly incomprehensible. Now, COVID-19 is spreading again, but it's being treated like a common cold. Was the vaccine really effective? Who was it for? https://t.co/XAOW55td2n\",\n",
       " '@MakisMD @presjimryan @UVA   Mandated the covid 19 vaccine until @JasonMiyaresVA took away their legal cover! Who knows how many lives will be lost due to @UVA mandate! They should be held accountable!! #Nuremberg2',\n",
       " '@trishgreenhalgh @IndependentSage Will you be doing a myth-buster series on Covid 19 vaccines, too? If so, these 1,000+ early studies can get you started, but THOUSANDS more were published in 2022 &amp; 2023. Happy reading! https://t.co/Z8yOD9nuBn',\n",
       " 'Ohio Doc Who Said COVID-19 Vaccine Was ‘Magnetic’ Suspended Indefinitely https://t.co/hlcy2VIywZ',\n",
       " '@JRubinBlogger How many people did you influence to NOT take ivermectin with your constant lies about Covid us ANTI-VACCINE horrible people knew it worked you must be proud to know people died because of you and your lies\\nhttps://t.co/mBA9oQnnxa',\n",
       " '@catturd2 My extensive covid-19/science/ vaccine injuries libraries.\\n\\nhttps://t.co/XqiqE7gjgG\\n\\nhttps://t.co/beKHB6UK76',\n",
       " 'Why are you still mandating a dangerous product that doesn’t stop infection or transmission? Drop the C-19 vaccine mandates.People: Take action here to demand action! @BloomfieldPrez @JonathanKoppell      @Damian_Woetzel   @JaneKFernandes1 https://t.co/zCBXkr2ULj',\n",
       " '@Blizzardmadman @Sabra_Security @MRHW @NotHoodlum I’ll give you some knowledge: the Nobel Peace Prize winning ivermectin is a proven remedy to battle COVID-19, yet an emergency was put in place to fast track a vaccine for Covid. Which is illegal when you already have a safe and proven treatment for the target disease.',\n",
       " '@Kevin_McKernan @Jikkyleaks @CharlesRixey @Daoyu15 COVID-19 vaccine is strongly recommended for pregnant &amp; breastfeeding women by the Royal College of Obstetricians &amp;Gynaecologists and the Royal College of Midwives. The COVID-19 vaccines available in the UK are the safest and most effective way to protect https://t.co/gYHvuZElnI',\n",
       " 'Fauci Lied; 120k+ Children Died: Secret CDC Report confirms Hundreds of Thousands of Youngsters ‘Died Suddenly’ in the USA following roll-out of COVID-19 Vaccines – The Expose https://t.co/GHRMd5uaGB',\n",
       " '@ChrisEd16512812 @AskDrDrew @JohnBeaudoinSr @drdrew COVID vaccines have been so safe and effective that it received full approval in August 2021, not just Emergency Use\\nhttps://t.co/xytKvFZPD5',\n",
       " '@EtanaHechtDC @DrJBhattacharya If you didn’t see the lie in ALL\\nof these,\\n\\n1) Russia collusion\\n2) Quid Pro Quo call\\n3) Hunter laptop \\n4) Ukrainian war\\n5) Covid-19 zoonotic\\n6) Vaccine safe and effective \\n7) Insurrection\\n7) climate crisis\\n8) CO2 a dangerous \\nEtc\\n\\nthen you were as likely to be fooled by any one.',\n",
       " '@GinaSaysSo @US_FDA SAY NO TO COVID 19 VACCINES\\nGet your covid-19 Digital QR certificate or PAPER CARD without taking the vaccine. Join to get your QR Scan Covid-19 Passports without taking the jab \\n\\nhttps://t.co/zBWvcWLsLD',\n",
       " '@DerrickEvans_WV They had already been working on the mRNA vaccine technology for a long time.\\n\\nMay 25, 2021\\n\\nCOVID-19 mRNA vaccines: How could anything developed this quickly be safe?\\nhttps://t.co/25ktYpeFbT',\n",
       " 'Social determinants of health and vaccine uptake during the first wave of the COVID-19 pandemic: A systematic review.\\n#science #publication #research #publications\\nhttps://t.co/YPRpiwNaAC',\n",
       " \"@russellcrowe # GoRabbitohs 🐇❤️💚👏👏when queuing for my Covid-19 Vaccine a Pensioner said to me 'A Bunnies Fan Grand Team Lass Grand Team' I had my Bunnies Mask On\",\n",
       " '@LeadingReport https://t.co/995Z6MiSV2 Read this for yourself. This is stating stats of deaths by COVID 19 in vaccinated people, not deaths by the  vaccine.',\n",
       " 'Government are the virus 🦠 \\n\\nSecret Pfizer &amp; Gov. Documents confirm Millions have died Worldwide as ADE and VAED due to COVID Vaccination sweeps the Globe – The Expose https://t.co/Sy5KRp9Ugi',\n",
       " 'Ohio Doc Who Said COVID-19 Vaccine Was ‘Magnetic’ Suspended  - JAXGAYMAG https://t.co/qMf9GaiDOH via @jaxgaymag',\n",
       " 'Ohio Doc Who Said COVID-19 Vaccine Was ‘Magnetic’ Suspended  - JAXGAYMAG https://t.co/3NBpUD9Yp2 via @jaxgaymag',\n",
       " '@ShaneAKAProp @jason_willz1 @Debunk_the_Funk Unregistered vaccinations were widely available in the UK.\\n“You do not need to be registered with a GP or have an NHS number to get a COVID-19 vaccine. However, you cannot use the standard national booking system and will need to attend a walk-in service.”\\nhttps://t.co/1KxeNQzuPZ',\n",
       " \"@BretWeinstein Unfortunately you're going to seriously have to revise that number. Keep in mind that this list is only from the Pfizer injections: https://t.co/RyF87Z74Eh\",\n",
       " '@RonDeSantis Here you are after you signed an executive order for elderly people to get the covid vaccine that now you rail against it\\nhttps://t.co/mvdSoxV7DF',\n",
       " \"And in my most favorite grooming society into political correctness and making you become some kind of f****** scientist and be politically correct, proving that it's a vile weapon.\\nBio weapon\\nWell, there's no COVID-19 plague. Therefore, there is no virus, no virus, no vaccine. https://t.co/d00EP7FFWB\",\n",
       " \"EXCLUSIVE: CDC Changed Definition of Breakthrough COVID-19 After Emails About 'Vaccine Failure' https://t.co/AFUEizGDqO\",\n",
       " 'VAERS data: 72% of all reported VACCINE DEATHS are attributed to COVID-19 injections https://t.co/X4Pum5OiS8',\n",
       " 'Academic Medicine Covering Up COVID-19 Vaccine Cardiac Arrests?, by @P_McCulloughMD https://t.co/RhRrF8No9K',\n",
       " '@QudsNen The Billionaire Jews are attempting to evict all white men, women, children and babies by mRNA Covid-19 vaccine by injuring them and by death in North America  and Europe.',\n",
       " 'It was never about Covid 19.\\nIt was about the Vaccine.\\nOhhh, the damage they have done to us! https://t.co/OAtuVyodK0',\n",
       " '@haaretzcom The Billionaire Jews are attempting to evict all white men, women, children and babies by mRNA Covid-19 vaccine by injuring them and by death in North America  and Europe.',\n",
       " 'You never heard of this the kind of a thing happening before all these people were forced to put that poison into their bodies what was it called oh yeah covid-19 vaccine \\n\\nHigh school basketball star dead at 17 after collapsing during workout\\n\\nhttps://t.co/pGRWgEFhui',\n",
       " '@bigballsdaclown @Resist_05 @WoodsC123 It was also probably Novovax since all TGA approved vaccines were involved in Government compensation scheme.\\nhttps://t.co/9WyOXiRZtG',\n",
       " '@JLKRamos @BigBadAl64 @CartlandDavid An infant to 15 mo gets roughly 23 shots covering 13 illnesses. Most likely less due to the combination of therapies. MMR shot for example. \\n\\nhttps://t.co/CRZwelRP3p\\n\\nOther than the Covid-19 vaccine I would have no issues. \\n\\nHepatitis B, whooping cough, tetanus, diphtheria,… https://t.co/MjE30HL2at',\n",
       " '@davewvero53 @PratingCoxcomb @ABridgen Moderna, a company that has never brought a product to market since it\\'s creation in 2010, suddenly has patents for a COVID-19 MRNA vaccine. Vaccine was developed in partnership with NIAID. Which was run by who? Mr \"face of the pandemic\", Anthony Fauci. Opinion?',\n",
       " 'Did you get a COVID-19 Vaccine?\\n\\nDo you regret your choice?\\n\\nRT for better sample size. https://t.co/PPvJbH1COa',\n",
       " '* Surpassing the cumulative total of all vaccines certified over the past 44 years, it is confirmed as the worst drug disaster in history.\\n\\nIn Japan, as of July 2023, the number of individuals certified under the health damage compensation program by law for the COVID-19 vaccine… https://t.co/hHMRss0s10 https://t.co/ygOY3kQ0YW',\n",
       " '@bigballsdaclown @Resist_05 @WoodsC123 If I was a company that was asked to make a vaccine now and not in 10 years time when the pandemic is over I would want immunity as well. \\nOtherwise I would tell you to deal with your covid 19 pandemic some other way. Stay locked down for 10 years.',\n",
       " '@ChuckCallesto \"Covid-19 THE Great Reset\" by Klause Shwabb. Published June 2020 at the onset of the plandemic.  They already told us the plan. The vaccine was population control. They didn\\'t just kill people. They sterilized a good percentage of our population.',\n",
       " 'Does academic medicine cover cardiac arrests from the COVID-19 vaccine?\\nDr. Jane Orient reviews evil conspiracy to suppress evidence\\n\\nhttps://t.co/OiDtx4wsy7 https://t.co/vehIi0cduB',\n",
       " '@Liz_Wheeler Absofuckinlutely.\\n\\nSo glad I never got the COVID-19 “vaccine”.\\n\\nI can only imagine what other junk they put into me when I was young.\\n\\nNonetheless, God had His hands on me.',\n",
       " \"COVID-19 Vaccine - Plan to vaccinate populations should not be seen as science... but as war, says European Research Council chief. No science, don't make them question it! https://t.co/y9qh33Y1vY\",\n",
       " 'Why are you still mandating a dangerous product that doesn’t stop infection or transmission? Drop the C-19 vaccine mandates.People: Take action here to demand action! @BloomfieldPrez @JonathanKoppell      @Damian_Woetzel   @JaneKFernandes1 https://t.co/zswEUHiDLJ',\n",
       " 'The @HSGStGallen project that was fortunate to lead resulted in the book I was fortunate to edit. Want to know how Orthodox Christianity responded to the Covid-19 pandemic? Novel religious practices, political alliances, vaccine nationalism and more. Out soon in pdf open access https://t.co/jJ3uid6QLE',\n",
       " '@DrManaouda, where to find ours pls? #FullPackage we need 2 know too\\nHere is UK full report on covid:\\nEngland and Wales: In the week ending 10 Feb. 2023, 12,672 deaths were registered; of these deaths, 446 cited COVID-19, accounting for 3.5% of all deaths.\\nhttps://t.co/yZISqhhWUG',\n",
       " '@Lancillotto810 @USMortality You don\\'t understand how a valid study is performed. U have no biz talking about clowns.\\nFrom CDC:\\n\"Unvaccinated: Persons with a positive SARS-CoV-2 test who have no record of receiving any COVID-19 vaccine doses.\"\\n\" Rate ratios are based on person-time by vaccination status\". https://t.co/1gcfYFLU7U',\n",
       " 'COVID-19 Vaccine: Worst Drug Disaster in History, Japan\\nSurpassing All Vaccine Injuries of the Past 44 Years\\n\\n* As of July 2023, there have been 3,586 individuals certified under health damage compensation program by law for COVID-19 vaxx.\\n* 147 deaths, 4,000 pending reviews.\\n1/ https://t.co/LOrHhVWfpM https://t.co/STQQGNKKex',\n",
       " \"SK bioscience will obtain  exclusive rights to Novavax's COVID-19 variant vaccine in\\xa0South  Korea\\xa0and non-exclusive rights in\\xa0Thailand\\xa0and\\xa0Vietnam\\xa0to supply and  commercialize the vaccine. https://t.co/bevN90k8eW\",\n",
       " '@ShaneAKAProp @jason_willz1 @SenatorRennick @Debunk_the_Funk Yeah, some teenagers got their Pfizer vaccine earlier; what’s your point? There was no community spread of Covid in Victoria at the time. Melbourne had the world’s most draconian and longest lockdown - what caused the increase in hospital admissions? https://t.co/YPNzhPodFv',\n",
       " 'During last night’s Senate hearing into our COVID 19 Vaccine Discrimination Bill representatives from Moderna couldn’t provide the numbers of serious adverse reactions from their COVID mRNA injection.\\n\\nhttps://t.co/eKxxNZM5Rg',\n",
       " 'VAERS data: 72% of all reported VACCINE DEATHS are attributed to COVID-19 injections https://t.co/ccBUVz47MN',\n",
       " '@danbrova @SharylAttkisson Yes. Remdesivir is very dangerous and has no positive effect on covid 19.\\n\\nJust like the \"vaccine\", there is no reward. There is only risk.',\n",
       " 'Autopsy Histopathologic Cardiac Findings in 2 Adolescents Following the Second COVID-19 Vaccine Dose | Archives of Pathology &amp; Laboratory Medicine https://t.co/D1A5mxRPzT',\n",
       " 'COVID-19 mRNA Vaccine Injury Treatment: Bromelain – Breaks Down Spike Protein\\n\\n(Especially When Combined with NAC or Curcumin), Also Has Anti-coagulant, Anti-inflammatory &amp; Anti-cancer Properties\\n\\nhttps://t.co/WP3SlIrElu',\n",
       " 'Thank goodness that someone with the academic statue of Dr Peter McCullough is standing up against the governmental-big pharmaceutical complex.  \\n\\nAcademic Medicine Covering Up COVID-19 Vaccine Cardiac Arrests?, by @P_McCulloughMD https://t.co/MB70xWTBFr',\n",
       " 'Did COVID-19 vaccines cause stillbirth surge in Singapore?! 😲😓\\nhttps://t.co/ddsHBnTr19\\n\\n#TechARP #Pregnancy #Stillbirth #Death #Tragedy #DiedSuddenly #COVID19 #Vaccine #Vaccination #Facts #FactsMatter #FactCheck #Fake #FakeNews #Science #Health #Healthcare #Medicine #Singapore',\n",
       " 'Why are you still mandating a dangerous product that doesn’t stop infection or transmission? Drop the C-19 vaccine mandates.People: Take action here to demand action! @MacalesterPres  @IvyRTaylor @BennettPres_SEW @ValerieKinloch https://t.co/VX56sLOQ56',\n",
       " 'Why are you still mandating a dangerous product that doesn’t stop infection or transmission? Drop the C-19 vaccine mandates.People: Take action here to demand action! @DrLoriDePauwU    @SUSprez    @GildaBarabino @DrPaulaJohnson     @PresidentEspy https://t.co/VX56sLOQ56',\n",
       " 'Why are you still mandating a dangerous product that doesn’t stop infection or transmission? Drop the C-19 vaccine mandates.People: Take action here to demand action! @Pres_Hannigan                 @PrezdelaTorre  @sjsuprezmatson    @StromThacker https://t.co/VX56sLOQ56',\n",
       " 'Why are you still mandating a dangerous product that doesn’t stop infection or transmission? Drop the C-19 vaccine mandates.People: Take action here to demand action! @AdamAtDenison  @ctambar         @wraymond   @pittgbgpres @RMU_SBUS_Dean @u4kp https://t.co/VX56sLOQ56',\n",
       " 'Why are you still mandating a dangerous product that doesn’t stop infection or transmission? Drop the C-19 vaccine mandates.People: Take action here to demand action! @BloomfieldPrez @JonathanKoppell      @Damian_Woetzel   @JaneKFernandes1 https://t.co/VX56sLOQ56',\n",
       " '@FrauHodl 1/ VACCELERATE is a clinical research network for the coordination and  conduct of COVID-19 vaccine trials. The network is comprised of academic  institutions from all over Europe:',\n",
       " 'VAERS data: 72% of all reported VACCINE DEATHS are attributed to COVID-19 injections  https://t.co/VHY4icexGn https://t.co/Wro8LtNWse \\n\\n#TheMillennialPress',\n",
       " \"https://t.co/U3cAvdbOLA\\nhttps://t.co/ejpYvAa02S Doesn't seem like a fluke.  Regular use(like in Africa) works like a vaccine.\",\n",
       " '@ABridgen Where did the flu go in 2019/20?\\n\\nEven the school kids have worked this out now.\\n\\nCovid 19 is the cover up for the dangerous deadly so called Vaccine’s.',\n",
       " 'Amid Censorship Pressure, Facebook Employees Leaked to White House https://t.co/U9WrDhgUa1',\n",
       " '@WHO @DrTedros Here in Japan, in the very very hot summer, most people wear mask on his or her mouth to prevent COVID-19 still. However, morbidity rate of Corona Virus Infection is still high.\\nHere in Japan many people shoot  were vaccine  more than 4 times and some are 6 times.',\n",
       " '@jowlymonster @ABridgen If IVM and HCQ were proven to be effective at treating COVID-19, which we now know they are, the vaccines would never have received their EUA. All actions against IVM and HCQ were done to protect the vaccine EUA. Profit was the motive, not health.',\n",
       " 'I understand that people need to make a living. But putting vital information behind a paywall is despicable to me.\\n\\nCOVID-19 mRNA Vaccine Injury Treatment: Bromelain – Breaks Down Spike Protein\\n\\nhttps://t.co/Yu2l2rfZB2\\n\\n@MakisMD\\n@wmakismd',\n",
       " '@Benbenben76 @EstherMcVey1 @ABridgen \\n@joshg99 @RetsefL\\nHeart and ovaries are on the lymph system and brain bleed is often caised by thrombocytopenia.\\nWhich was a known AZ reaction, listed alongside lymphadenopathy see table 1\\nhttps://t.co/dKw0Ui3vfp',\n",
       " '@Magnus_Veritas @DC_Draino It has been for a while, but not because of the ivermectin revelations. Pfizer and Moderna released new COVID-19 vaccine products, Comirnaty and Spikevax, and these products recieved full FDA approval. Their approval invalidates the EUAs for the previous products.',\n",
       " 'Tulsa Health Department sees slight increase in COVID-19 cases | News #OklahomaHealth #USWellness #OklahomaHealthCare [Video] Tulsa, Oklahoma, County, health department, vaccine, COVID, coronavirus, Tanya ... https://t.co/o3NZnjrZxd',\n",
       " \"@prigogenic @FrankH7799 @TRyanGregory (PDF) Australian COVID-19 pandemic: A Bradford Hill analysis of iatrogenic excess mortality\\nhttps://t.co/cvhDjY8Y6t\\n\\n(PDF) Probable causal association between Australia's new regime of high all-cause mortality and its COVID-19 vaccine rollout\\nhttps://t.co/3NaxLv3v3E https://t.co/TeW7vbdhQc\",\n",
       " \"@hallinen_diane @FrankH7799 @TRyanGregory (PDF) Australian COVID-19 pandemic: A Bradford Hill analysis of iatrogenic excess mortality\\nhttps://t.co/cvhDjY8Y6t\\n\\n(PDF) Probable causal association between Australia's new regime of high all-cause mortality and its COVID-19 vaccine rollout\\nhttps://t.co/3NaxLv3v3E https://t.co/Yzjve4Lupv\",\n",
       " \"@scottbabcock @TRyanGregory @USATODAY (PDF) Australian COVID-19 pandemic: A Bradford Hill analysis of iatrogenic excess mortality\\nhttps://t.co/cvhDjY8Y6t\\n\\n(PDF) Probable causal association between Australia's new regime of high all-cause mortality and its COVID-19 vaccine rollout\\nhttps://t.co/3NaxLv3v3E https://t.co/WPL3JWw6U9\",\n",
       " 'Why are you still mandating a dangerous product that doesn’t stop infection or transmission? Drop the C-19 vaccine mandates.People: Take action here to demand action! @BloomfieldPrez @JonathanKoppell      @Damian_Woetzel   @JaneKFernandes1 https://t.co/y9wfjgFzc9',\n",
       " '@CartlandDavid Bourla was awarded the 2022 Genesis Prize, aka Jewish Nobel prize which is awarded only to Jewish people, for his leadership in the development of the Pfizer–BioNTech COVID-19 vaccine.',\n",
       " '@AHS_media Fun FACT\\n\\nGo to part 7 page 1165 \\nConfirmation by the director of Health Canada that those whom were vaccinated against Covid-19 were made part of a clinical trial without their knowledge. \\nLink 👉https://t.co/tGmORT7Va3 https://t.co/LqOJe1QktF',\n",
       " \"@costrike @TRyanGregory (PDF) Australian COVID-19 pandemic: A Bradford Hill analysis of iatrogenic excess mortality\\nhttps://t.co/cvhDjY8Y6t\\n\\n(PDF) Probable causal association between Australia's new regime of high all-cause mortality and its COVID-19 vaccine rollout\\nhttps://t.co/3NaxLv3v3E https://t.co/zkc2RYKKmI\",\n",
       " \"NEW ARTICLE: COVID-19 mRNA Vaccine Injury Treatment - CURCUMIN (Turmeric)\\n\\nBlocks spike protein (combine it with Bromelain), treats MYOCARDITIS, has anti-inflammatory, anti-AGING, &amp; anti-TURBO CANCER properties!\\n\\nYou've heard about Nattokinase, Quercetin, N-Acetyl Cysteine, Olive… https://t.co/QmSw1fDNWN https://t.co/BhBwdooAnG\",\n",
       " 'COVID-19 RNA vaccine efficacy. 10 Therefore, it is plausible that COVID-19 vaccine-mediated T-cell-mediated immune upregulation could lead to a type 1 leprosy reaction. https://t.co/YNcbYpIroQ',\n",
       " '@ABridgen I see you don’t mention the high death rates from COVID-19 in Russia.  Now, tell me how many of those was vaccine related…. Let’s put @ABridgen through the test',\n",
       " 'Covid 19. Vaccine Injuries. UK. https://t.co/CUbfja0gx8',\n",
       " '@NuanceBro are you saying the covid 19 vaccine is safe and effective?',\n",
       " '@nicksortor COVID-19 vaccine',\n",
       " \"NEW ARTICLE: COVID-19 mRNA Vaccine Injury Treatment - CURCUMIN (Turmeric)\\n\\nBlocks spike protein (combine it with Bromelain), treats MYOCARDITIS, has anti-inflammatory, anti-AGING, &amp; anti-TURBO CANCER properties!\\n\\nYou've heard about Nattokinase, Quercetin, N-Acetyl Cysteine, Olive… https://t.co/t6ammxLvIK https://t.co/xWaMTcaW5r\",\n",
       " \"NEW ARTICLE: COVID-19 mRNA Vaccine Injury Treatment - CURCUMIN (Turmeric)\\n\\nBlocks spike protein (combine it with Bromelain), treats MYOCARDITIS, has anti-inflammatory, anti-AGING, &amp; anti-TURBO CANCER properties!\\n\\nYou've heard about Nattokinase, Quercetin, N-Acetyl Cysteine, Olive… https://t.co/nHBaZz8QeI https://t.co/fIhtYFu0zL\",\n",
       " '@EdwardTCarpent1 Author Summary: \"We have reviewed other cases of vaccine associated leprosy adverse events and conclude that the benefits of vaccination to reduce the risk of severe COVID-19 outweigh these unwanted events.\"',\n",
       " '@ABridgen Andrew Bridgen seems to still call it wrong.\\nCovid is a Scam.\\nCovid 19 is actually the Dangerous deadly Vaccine’s.',\n",
       " '@laurenceteamhcl @Eli_xxir @THEVENONPierri1 @Miviludes_Gouv A oui aussi les deux prix Nobels de Lyon, juste pour information, information issue du site Pfizer, je cite : \\n\\n\" The Pfizer-BioNTech COVID-19 Vaccine, which is based on BioNTech proprietary mRNA \\ntechnology, was The Pfizer-BioNTech COVID-19 Vaccine, which is based on BioNTech… https://t.co/ZI3E61uIS5',\n",
       " \"#vaccine #plandemic #Covid_19 #virus\\n\\nThere is no vaccine, but an experimental substance with adverse effects that they claim is against a virus that doesn't exist.\\n\\n#kuerv0_yo\",\n",
       " '@AndrewNutter5 @jamesmi98842928 @ever_england @TheFreds Just because crank doctors (and vaccine fearful patients can demand it from their doctors)  can prescribe it for a Covid-19 infection does not mean it works, dear... Big pharma will be rubbing their hands together... 🤣🤡🤦\\u200d♂️\\n\\nhttps://t.co/LhCEz0ionG',\n",
       " '@7thSign4 @Dreamager @VeritasEver @stkirsch Latest TWiV pointed out a study looking at COVID-19 vaccination in pregnant women versus unvaccinated. Almost half the rate of infection let alone all of the other comparisons. Just one of many studies showing the vaccine greatly reduces infection\\nhttps://t.co/LyTOS8dLhf',\n",
       " 'Why are you still mandating a dangerous product that doesn’t stop infection or transmission? Drop the C-19 vaccine mandates.People: Take action here to demand action! @BloomfieldPrez @JonathanKoppell      @Damian_Woetzel   @JaneKFernandes1 https://t.co/GZNRP2yRG8',\n",
       " 'In celebration of the 2023 edition of the #InternationalYouthDay, Bingwas from Kenya and Uganda are gathered in Busia to sensitize the community on COVID-19 as part of ongoing mobilization for the uptake of the COVID-19 vaccine in Africa.\\n\\n#AUBingwa\\n#ShootYourShot\\n#GetVaccinated https://t.co/U5D3yd1c4X',\n",
       " 'Menstrual disturbances following COVID-19 vaccination: A probable puzzle about the role of endocrine and immune pathways. Got u g such by vaccine shedding and much more . I Gorbachev such by vaccine shedding and much more. 😞 https://t.co/xa6Nacriv0',\n",
       " 'COVID-19 is no longer a global health emergency, but it is still making people sick.\\n\\n#VaccinesWork to help protect you against serious illness, hospitalization and death from the coronavirus. Get all COVID-19 vaccine doses recommended to you.\\n\\n#YouthDay https://t.co/HGOtfGsKPp',\n",
       " '@EdV1694 @ABridgen @jengler @profnfenton\\nHi Robert\\nPfizer is the UK distributer under the Reg 174 authorisation of 2 Dec\\n 2020, which names batchEJ0553 @RetsefL and @joshg99 have written about this Batch in a BMJ rapid response\\nhttps://t.co/6DSNYFrpof',\n",
       " \"RT @cnnbrk: Drugmaker Pfizer says early data from its Covid-19 vaccine shows it is more than 90% effective, a result that's much better tha…\\nchat me now https://t.co/UdSzOWuucG https://t.co/JgWzaG0Wm8\",\n",
       " '@aaronjmate @Dpol_un Sorry who I am off topic..\\nI need help, some greek chanells including international  Sky news, CNN e.t.c.  they want me to suicide with the excuse of the Covid 19 vaccine &amp; some direct message who I send to you, months ago to the Russian Government.\\nHELP...',\n",
       " '@ChildrensHD I had a Knee Replacement and they hurried me along to get the paperwork signed so I just wrote by my last signature \"I don\\'t concent to having and Covid-19 vaccine given to me while in surgery\" they would not treat you the same if you didn\\'t take the shot you got poor to no help',\n",
       " 'Peter A. McCullough: Bill Gates and Anthony Fauci (NIH) have both funded EcoHealth, which developed COVID-19 in the Wuhan lab... \\n\\nBoth appointed representatives at the NIH who suppressed ivermectin/HCQ to obtain emergency use authorization for the COVID-19 vaccine\\n\\n@DPoertsch https://t.co/CRPEsZYjO6',\n",
       " 'Batch-dependent safety of the BNT162b2 mRNA #COVID-19 #vaccine \\n\\nEVERYONE should report any suspicions side effects related to cancer. Also as a patient. Especially if you got the first vaccines! #mRNA\\nhttps://t.co/176kZwFBfG']"
      ]
     },
     "execution_count": 28,
     "metadata": {},
     "output_type": "execute_result"
    }
   ],
   "source": [
    "tweet_data"
   ]
  },
  {
   "cell_type": "code",
   "execution_count": 20,
   "id": "ffe77a4c",
   "metadata": {},
   "outputs": [],
   "source": [
    "tweets_dict = []\n",
    "\n",
    "for tweet in tweets:\n",
    "    tweets_dict.append(tweets.text)"
   ]
  },
  {
   "cell_type": "code",
   "execution_count": 21,
   "id": "783c7a58",
   "metadata": {},
   "outputs": [
    {
     "data": {
      "text/plain": [
       "[]"
      ]
     },
     "execution_count": 21,
     "metadata": {},
     "output_type": "execute_result"
    }
   ],
   "source": [
    "tweets_dict"
   ]
  },
  {
   "cell_type": "code",
   "execution_count": 22,
   "id": "89306663",
   "metadata": {},
   "outputs": [
    {
     "data": {
      "text/plain": [
       "<generator object Paginator.flatten at 0x7f9713265970>"
      ]
     },
     "execution_count": 22,
     "metadata": {},
     "output_type": "execute_result"
    }
   ],
   "source": [
    "tweets"
   ]
  },
  {
   "cell_type": "code",
   "execution_count": 19,
   "id": "51a2e3c0",
   "metadata": {},
   "outputs": [
    {
     "ename": "AttributeError",
     "evalue": "'generator' object has no attribute 'text'",
     "output_type": "error",
     "traceback": [
      "\u001b[0;31m---------------------------------------------------------------------------\u001b[0m",
      "\u001b[0;31mAttributeError\u001b[0m                            Traceback (most recent call last)",
      "\u001b[0;32m/var/folders/yy/l_574phs7hb1lhs37q6r9mwm0000gn/T/ipykernel_8294/1531021861.py\u001b[0m in \u001b[0;36m<module>\u001b[0;34m\u001b[0m\n\u001b[0;32m----> 1\u001b[0;31m \u001b[0mprint\u001b[0m\u001b[0;34m(\u001b[0m\u001b[0mtweets\u001b[0m\u001b[0;34m.\u001b[0m\u001b[0mtext\u001b[0m\u001b[0;34m)\u001b[0m\u001b[0;34m\u001b[0m\u001b[0;34m\u001b[0m\u001b[0m\n\u001b[0m",
      "\u001b[0;31mAttributeError\u001b[0m: 'generator' object has no attribute 'text'"
     ]
    }
   ],
   "source": [
    "print(tweets.text)"
   ]
  },
  {
   "cell_type": "code",
   "execution_count": 23,
   "id": "f032046e",
   "metadata": {},
   "outputs": [
    {
     "ename": "AttributeError",
     "evalue": "'generator' object has no attribute '_json'",
     "output_type": "error",
     "traceback": [
      "\u001b[0;31m---------------------------------------------------------------------------\u001b[0m",
      "\u001b[0;31mAttributeError\u001b[0m                            Traceback (most recent call last)",
      "\u001b[0;32m/var/folders/yy/l_574phs7hb1lhs37q6r9mwm0000gn/T/ipykernel_8294/233624684.py\u001b[0m in \u001b[0;36m<module>\u001b[0;34m\u001b[0m\n\u001b[1;32m      2\u001b[0m \u001b[0;34m\u001b[0m\u001b[0m\n\u001b[1;32m      3\u001b[0m \u001b[0;31m# Save data as dictionary\u001b[0m\u001b[0;34m\u001b[0m\u001b[0;34m\u001b[0m\u001b[0m\n\u001b[0;32m----> 4\u001b[0;31m \u001b[0mtweets_dict\u001b[0m \u001b[0;34m=\u001b[0m \u001b[0mtweets\u001b[0m\u001b[0;34m.\u001b[0m\u001b[0m_json\u001b[0m\u001b[0;34m(\u001b[0m\u001b[0;34m)\u001b[0m\u001b[0;34m\u001b[0m\u001b[0;34m\u001b[0m\u001b[0m\n\u001b[0m\u001b[1;32m      5\u001b[0m \u001b[0;34m\u001b[0m\u001b[0m\n\u001b[1;32m      6\u001b[0m \u001b[0;31m# Extract \"data\" value from dictionary\u001b[0m\u001b[0;34m\u001b[0m\u001b[0;34m\u001b[0m\u001b[0m\n",
      "\u001b[0;31mAttributeError\u001b[0m: 'generator' object has no attribute '_json'"
     ]
    }
   ],
   "source": [
    "import pandas as pd\n",
    "\n",
    "# Save data as dictionary\n",
    "tweets_dict = tweets._json() \n",
    "\n",
    "# Extract \"data\" value from dictionary\n",
    "tweets_data = tweets_dict['data'] \n",
    "\n",
    "# Transform to pandas Dataframe\n",
    "df = pd.json_normalize(tweets_data) "
   ]
  },
  {
   "cell_type": "code",
   "execution_count": 24,
   "id": "742ada35",
   "metadata": {},
   "outputs": [
    {
     "ename": "AttributeError",
     "evalue": "'generator' object has no attribute 'data'",
     "output_type": "error",
     "traceback": [
      "\u001b[0;31m---------------------------------------------------------------------------\u001b[0m",
      "\u001b[0;31mAttributeError\u001b[0m                            Traceback (most recent call last)",
      "\u001b[0;32m/var/folders/yy/l_574phs7hb1lhs37q6r9mwm0000gn/T/ipykernel_8294/685140580.py\u001b[0m in \u001b[0;36m<module>\u001b[0;34m\u001b[0m\n\u001b[0;32m----> 1\u001b[0;31m \u001b[0;32mfor\u001b[0m \u001b[0mtweet\u001b[0m \u001b[0;32min\u001b[0m \u001b[0mtweets\u001b[0m\u001b[0;34m.\u001b[0m\u001b[0mdata\u001b[0m\u001b[0;34m:\u001b[0m\u001b[0;34m\u001b[0m\u001b[0;34m\u001b[0m\u001b[0m\n\u001b[0m\u001b[1;32m      2\u001b[0m     \u001b[0mprint\u001b[0m\u001b[0;34m(\u001b[0m\u001b[0;34m\"Text: \"\u001b[0m\u001b[0;34m,\u001b[0m \u001b[0mtweet\u001b[0m\u001b[0;34m.\u001b[0m\u001b[0mtext\u001b[0m\u001b[0;34m)\u001b[0m\u001b[0;34m\u001b[0m\u001b[0;34m\u001b[0m\u001b[0m\n\u001b[1;32m      3\u001b[0m     \u001b[0mprint\u001b[0m\u001b[0;34m(\u001b[0m\u001b[0;34m\"Created at: \"\u001b[0m\u001b[0;34m,\u001b[0m \u001b[0mtweet\u001b[0m\u001b[0;34m.\u001b[0m\u001b[0mcreated_at\u001b[0m\u001b[0;34m)\u001b[0m\u001b[0;34m\u001b[0m\u001b[0;34m\u001b[0m\u001b[0m\n\u001b[1;32m      4\u001b[0m     \u001b[0mprint\u001b[0m\u001b[0;34m(\u001b[0m\u001b[0;34m\"\\n\"\u001b[0m\u001b[0;34m)\u001b[0m\u001b[0;34m\u001b[0m\u001b[0;34m\u001b[0m\u001b[0m\n",
      "\u001b[0;31mAttributeError\u001b[0m: 'generator' object has no attribute 'data'"
     ]
    }
   ],
   "source": [
    "for tweet in tweets.data:\n",
    "    print(\"Text: \", tweet.text)\n",
    "    print(\"Created at: \", tweet.created_at)\n",
    "    print(\"\\n\")"
   ]
  },
  {
   "cell_type": "code",
   "execution_count": null,
   "id": "d3184f30",
   "metadata": {},
   "outputs": [],
   "source": []
  }
 ],
 "metadata": {
  "kernelspec": {
   "display_name": "Python 3 (ipykernel)",
   "language": "python",
   "name": "python3"
  },
  "language_info": {
   "codemirror_mode": {
    "name": "ipython",
    "version": 3
   },
   "file_extension": ".py",
   "mimetype": "text/x-python",
   "name": "python",
   "nbconvert_exporter": "python",
   "pygments_lexer": "ipython3",
   "version": "3.9.13"
  }
 },
 "nbformat": 4,
 "nbformat_minor": 5
}
